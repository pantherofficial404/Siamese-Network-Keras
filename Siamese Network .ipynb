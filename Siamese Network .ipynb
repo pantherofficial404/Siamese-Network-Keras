{
  "nbformat": 4,
  "nbformat_minor": 0,
  "metadata": {
    "colab": {
      "name": "Siamese Networks.ipynb",
      "version": "0.3.2",
      "provenance": [],
      "collapsed_sections": [],
      "toc_visible": true
    },
    "kernelspec": {
      "name": "python3",
      "display_name": "Python 3"
    },
    "accelerator": "GPU"
  },
  "cells": [
    {
      "cell_type": "markdown",
      "metadata": {
        "id": "ZwaLPyUBnPaa",
        "colab_type": "text"
      },
      "source": [
        "## Importing Libraries"
      ]
    },
    {
      "cell_type": "code",
      "metadata": {
        "id": "cmnnFbEHnIyK",
        "colab_type": "code",
        "colab": {}
      },
      "source": [
        "import os\n",
        "import numpy as np\n",
        "import pandas as pd\n",
        "from matplotlib.pyplot import imread\n",
        "import matplotlib.pyplot as plt\n",
        "%matplotlib inline\n",
        "import sys\n",
        "\n",
        "import cv2\n",
        "import time\n",
        "\n",
        "import tensorflow as tf\n",
        "from keras.models import Sequential\n",
        "from keras.optimizers import Adam\n",
        "from keras.layers import Conv2D, ZeroPadding2D, Activation, Input, concatenate\n",
        "from keras.models import Model\n",
        "\n",
        "from keras.layers.normalization import BatchNormalization\n",
        "from keras.layers.pooling import MaxPooling2D\n",
        "from keras.layers.merge import Concatenate\n",
        "from keras.layers.core import Lambda, Flatten, Dense\n",
        "from keras.initializers import glorot_uniform\n",
        "\n",
        "from keras.engine.topology import Layer\n",
        "from keras.regularizers import l2\n",
        "from keras import backend as K\n",
        "\n",
        "from sklearn.utils import shuffle\n",
        "\n",
        "import numpy.random as random"
      ],
      "execution_count": 0,
      "outputs": []
    },
    {
      "cell_type": "markdown",
      "metadata": {
        "id": "JLiLLe_Enjug",
        "colab_type": "text"
      },
      "source": [
        "## Importing Dataset"
      ]
    },
    {
      "cell_type": "code",
      "metadata": {
        "id": "ugDmNSA4nb1_",
        "colab_type": "code",
        "outputId": "d0718b27-a032-423c-b2a6-96c59707c22d",
        "colab": {
          "base_uri": "https://localhost:8080/",
          "height": 136
        }
      },
      "source": [
        "!git clone https://github.com/pantherofficial404/Omniglot-Dataset.git"
      ],
      "execution_count": 2,
      "outputs": [
        {
          "output_type": "stream",
          "text": [
            "Cloning into 'Omniglot-Dataset'...\n",
            "remote: Enumerating objects: 34136, done.\u001b[K\n",
            "remote: Counting objects: 100% (34136/34136), done.\u001b[K\n",
            "remote: Compressing objects: 100% (34136/34136), done.\u001b[K\n",
            "remote: Total 34136 (delta 0), reused 34136 (delta 0), pack-reused 0\n",
            "Receiving objects: 100% (34136/34136), 8.99 MiB | 11.06 MiB/s, done.\n",
            "Checking out files: 100% (32460/32460), done.\n"
          ],
          "name": "stdout"
        }
      ]
    },
    {
      "cell_type": "code",
      "metadata": {
        "id": "TTFqF7ZDnniG",
        "colab_type": "code",
        "outputId": "af3b2f8c-8500-4770-99ac-087338cadb2f",
        "colab": {
          "base_uri": "https://localhost:8080/",
          "height": 34
        }
      },
      "source": [
        "!ls Omniglot-Dataset"
      ],
      "execution_count": 3,
      "outputs": [
        {
          "output_type": "stream",
          "text": [
            "images_background  images_evaluation\n"
          ],
          "name": "stdout"
        }
      ]
    },
    {
      "cell_type": "markdown",
      "metadata": {
        "id": "bHnc0we4rHNf",
        "colab_type": "text"
      },
      "source": [
        "## Loading Dataset"
      ]
    },
    {
      "cell_type": "code",
      "metadata": {
        "id": "YWISv3nvwv5B",
        "colab_type": "code",
        "colab": {}
      },
      "source": [
        "def preprocessImages(path):\n",
        "    X = []\n",
        "    y = []\n",
        "    languageDictionary = {}\n",
        "    currentY = 0\n",
        "    print(\"Loading and Preprocess Data\")\n",
        "    for alphabet in os.listdir(path):\n",
        "        languageDictionary[alphabet] = [currentY,None]\n",
        "        alphabetPath = os.path.join(path,alphabet)\n",
        "        print(alphabet+\" Loaded\")\n",
        "        for letter in os.listdir(alphabetPath):\n",
        "            images=[]\n",
        "            letterPath = os.path.join(alphabetPath, letter)\n",
        "            \n",
        "            for filename in os.listdir(letterPath):\n",
        "                imagePath = os.path.join(letterPath, filename)\n",
        "                image = imread(imagePath)\n",
        "                images.append(image)\n",
        "                y.append(currentY)\n",
        "            X.append(np.stack(images))\n",
        "            currentY += 1\n",
        "            languageDictionary[alphabet][1] = currentY - 1\n",
        "    y = np.vstack(y)\n",
        "    X = np.stack(X)\n",
        "    print(\"Loading Completed\")\n",
        "    return X,y,languageDictionary"
      ],
      "execution_count": 0,
      "outputs": []
    },
    {
      "cell_type": "code",
      "metadata": {
        "id": "9JYFbZKnxOpC",
        "colab_type": "code",
        "colab": {
          "base_uri": "https://localhost:8080/",
          "height": 935
        },
        "outputId": "220120a9-c0af-4c83-c2ee-af8c1d0e1664"
      },
      "source": [
        "Xtrain,Ytrain,trainCategory = preprocessImages('Omniglot-Dataset/images_background')\n",
        "Xval,Yval,validationCategory=preprocessImages(\"Omniglot-Dataset/images_evaluation\")"
      ],
      "execution_count": 78,
      "outputs": [
        {
          "output_type": "stream",
          "text": [
            "Loading and Preprocess Data\n",
            "Japanese_(katakana) Loaded\n",
            "Japanese_(hiragana) Loaded\n",
            "Tifinagh Loaded\n",
            "Sanskrit Loaded\n",
            "Hebrew Loaded\n",
            "Korean Loaded\n",
            "N_Ko Loaded\n",
            "Ojibwe_(Canadian_Aboriginal_Syllabics) Loaded\n",
            "Braille Loaded\n",
            "Tagalog Loaded\n",
            "Bengali Loaded\n",
            "Inuktitut_(Canadian_Aboriginal_Syllabics) Loaded\n",
            "Blackfoot_(Canadian_Aboriginal_Syllabics) Loaded\n",
            "Grantha Loaded\n",
            "Syriac_(Estrangelo) Loaded\n",
            "Balinese Loaded\n",
            "Latin Loaded\n",
            "Burmese_(Myanmar) Loaded\n",
            "Early_Aramaic Loaded\n",
            "Alphabet_of_the_Magi Loaded\n",
            "Armenian Loaded\n",
            "Mkhedruli_(Georgian) Loaded\n",
            "Asomtavruli_(Georgian) Loaded\n",
            "Cyrillic Loaded\n",
            "Anglo-Saxon_Futhorc Loaded\n",
            "Greek Loaded\n",
            "Gujarati Loaded\n",
            "Arcadian Loaded\n",
            "Malay_(Jawi_-_Arabic) Loaded\n",
            "Futurama Loaded\n",
            "Loading Completed\n",
            "Loading and Preprocess Data\n",
            "Glagolitic Loaded\n",
            "Avesta Loaded\n",
            "Atemayar_Qelisayer Loaded\n",
            "Keble Loaded\n",
            "Atlantean Loaded\n",
            "Tibetan Loaded\n",
            "ULOG Loaded\n",
            "Gurmukhi Loaded\n",
            "Mongolian Loaded\n",
            "Oriya Loaded\n",
            "Malayalam Loaded\n",
            "Syriac_(Serto) Loaded\n",
            "Sylheti Loaded\n",
            "Aurek-Besh Loaded\n",
            "Ge_ez Loaded\n",
            "Old_Church_Slavonic_(Cyrillic) Loaded\n",
            "Angelic Loaded\n",
            "Manipuri Loaded\n",
            "Tengwar Loaded\n",
            "Kannada Loaded\n",
            "Loading Completed\n"
          ],
          "name": "stdout"
        }
      ]
    },
    {
      "cell_type": "markdown",
      "metadata": {
        "id": "EzQlDcizBr-m",
        "colab_type": "text"
      },
      "source": [
        "## Getting Data On Batches"
      ]
    },
    {
      "cell_type": "code",
      "metadata": {
        "id": "T_cafhNdZUD0",
        "colab_type": "code",
        "colab": {}
      },
      "source": [
        "def getBatch(batchSize,mode=\"train\"):\n",
        "  \n",
        "#   Setting Up Mode\n",
        "    if mode == 'train':\n",
        "        X = Xtrain\n",
        "        categories = trainCategory\n",
        "    else:\n",
        "        X = Xval\n",
        "        categories = validationCategory\n",
        "        \n",
        "    numberOfClasses, numberOfExamples, width, height = X.shape\n",
        "    \n",
        "    categories = random.choice(numberOfClasses,size=(batchSize,),replace=False)\n",
        "    \n",
        "    pairs = [np.zeros((batchSize, height, width,1)) for i in range(2)]\n",
        "    \n",
        "    targets = np.zeros((batchSize,))\n",
        "    \n",
        "#     Half Target should have value of 1 and another half targets value should have 0\n",
        "\n",
        "    targets[batch_size//2:] = 1\n",
        "  \n",
        "    for i in range(batchSize):\n",
        "      \n",
        "        image1Category = categories[i]\n",
        "        \n",
        "        image1Index = random.randint(0, numberOfExamples)\n",
        "        pairs[0][i,:,:,:] = X[image1Category, image1Index].reshape(height, width, 1)\n",
        "        \n",
        "        image2Index = random.randint(0, numberOfExamples)\n",
        "\n",
        "        if i >= batchSize // 2:\n",
        "            image2Category = image1Category  #same Class\n",
        "        else: \n",
        "            image2Category = (image1Category + random.randint(1,numberOfClasses)) % numberOfClasses # adding some noise for different Class \n",
        "        \n",
        "        pairs[1][i,:,:,:] = X[image2Category,image2Index].reshape(height, width,1)\n",
        "    \n",
        "    return pairs, targets"
      ],
      "execution_count": 0,
      "outputs": []
    },
    {
      "cell_type": "code",
      "metadata": {
        "id": "JzOFDoDDHFGD",
        "colab_type": "code",
        "colab": {
          "base_uri": "https://localhost:8080/",
          "height": 309
        },
        "outputId": "8dfe10e7-678f-4dd9-9f42-415b9d438211"
      },
      "source": [
        "# Testing The Batch Generator Function\n",
        "fig, ax = plt.subplots(nrows=2, ncols=2)\n",
        "plt.tight_layout()\n",
        "pairs,targets = getBatch(10)\n",
        "ax[0][0].imshow(pairs[0][1].reshape(105,105),cmap=\"gray\")\n",
        "ax[0][0].set_title(\"Input Image\")\n",
        "ax[0][1].imshow(pairs[1][1].reshape(105,105),cmap=\"gray\")\n",
        "ax[0][1].set_title(\"Fraud Image\")\n",
        "ax[1][0].imshow(pairs[0][5].reshape(105,105),cmap=\"gray\")\n",
        "ax[1][0].set_title(\"Input Image\")\n",
        "ax[1][1].imshow(pairs[1][5].reshape(105,105),cmap=\"gray\")\n",
        "ax[1][1].set_title(\"Correct Image\")\n",
        "plt.show()"
      ],
      "execution_count": 217,
      "outputs": [
        {
          "output_type": "display_data",
          "data": {
            "image/png": "[encoded data removed]",
            "text/plain": [
              "<Figure size 432x288 with 4 Axes>"
            ]
          },
          "metadata": {
            "tags": []
          }
        }
      ]
    },
    {
      "cell_type": "code",
      "metadata": {
        "id": "GBIped8pZtUL",
        "colab_type": "code",
        "colab": {}
      },
      "source": [
        "# Generator that provides pairs of images along with targets while training the neural network\n",
        "def generate(batchSize, mode=\"train\"):\n",
        "    while True:\n",
        "        pairs, targets = getBatch(batchSize,mode)\n",
        "        yield (pairs, targets)"
      ],
      "execution_count": 0,
      "outputs": []
    },
    {
      "cell_type": "code",
      "metadata": {
        "id": "_V9DtbRkk95Y",
        "colab_type": "code",
        "colab": {}
      },
      "source": [
        "def makeOneShotTask(N, mode=\"val\", language=None):\n",
        "    if mode == 'train':\n",
        "        X = Xtrain\n",
        "        categories = trainCategory\n",
        "    else:\n",
        "        X = Xval\n",
        "        categories = validationCategory\n",
        "    \n",
        "    numberOfClasses, numberOfExamples, width, height = X.shape\n",
        "    \n",
        "    indices = rng.randint(0, numberOfExamples,size=(N,))\n",
        "    \n",
        "    if language is not None:\n",
        "        low, high = categories[language]\n",
        "        if N > high - low:\n",
        "            raise ValueError(\"This language ({}) has less than {} letters\".format(language, N))\n",
        "        categories = random.choice(range(low,high),size=(N,),replace=False)\n",
        "\n",
        "    else:\n",
        "        categories = random.choice(range(numberOfClasses),size=(N,),replace=False) \n",
        "        \n",
        "    true_category = categories[0]\n",
        "    ex1, ex2 = random.choice(numberOfExamples,replace=False,size=(2,))\n",
        "    test_image = np.asarray([X[true_category,ex1,:,:]]*N).reshape(N, width,height,1)\n",
        "    support_set = X[categories,indices,:,:]\n",
        "    support_set[0,:,:] = X[true_category,ex2]\n",
        "    support_set = support_set.reshape(N, width,height,1)\n",
        "    targets = np.zeros((N,))\n",
        "    targets[0] = 1\n",
        "    targets, test_image, support_set = shuffle(targets, test_image, support_set)\n",
        "    pairs = [test_image,support_set]\n",
        "\n",
        "    return pairs, targets"
      ],
      "execution_count": 0,
      "outputs": []
    },
    {
      "cell_type": "code",
      "metadata": {
        "id": "91Cpu8n3Pu60",
        "colab_type": "code",
        "colab": {}
      },
      "source": [
        "pairs,targets = makeOneShotTask(3,\"train\",\"Gujarati\")"
      ],
      "execution_count": 0,
      "outputs": []
    },
    {
      "cell_type": "code",
      "metadata": {
        "id": "YUjD3-y_QBDi",
        "colab_type": "code",
        "colab": {
          "base_uri": "https://localhost:8080/",
          "height": 303
        },
        "outputId": "d72c2213-d73d-405f-884f-6775dca67007"
      },
      "source": [
        "plt.imshow(pairs[1][0].reshape(105,105),cmap=\"gray\")\n",
        "plt.show()\n",
        "print(targets.shape)\n",
        "print(len(pairs))"
      ],
      "execution_count": 208,
      "outputs": [
        {
          "output_type": "display_data",
          "data": {
            "image/png": "[encoded data removed]",
            "text/plain": [
              "<Figure size 432x288 with 1 Axes>"
            ]
          },
          "metadata": {
            "tags": []
          }
        },
        {
          "output_type": "stream",
          "text": [
            "(3,)\n",
            "2\n"
          ],
          "name": "stdout"
        }
      ]
    },
    {
      "cell_type": "code",
      "metadata": {
        "id": "POJYtvCqXkqN",
        "colab_type": "code",
        "colab": {}
      },
      "source": [
        "# Initialize the Weights\n",
        "def initialize_weights(shape, name=None):\n",
        "    return np.random.normal(loc = 0.0, scale = 1e-2, size = shape)\n",
        "  \n",
        "def initialize_bias(shape, name=None):\n",
        "    return np.random.normal(loc = 0.5, scale = 1e-2, size = shape)"
      ],
      "execution_count": 0,
      "outputs": []
    },
    {
      "cell_type": "markdown",
      "metadata": {
        "id": "upULYOg4XlTQ",
        "colab_type": "text"
      },
      "source": [
        "## Model Architecture"
      ]
    },
    {
      "cell_type": "code",
      "metadata": {
        "id": "btFEK11elZEa",
        "colab_type": "code",
        "colab": {
          "base_uri": "https://localhost:8080/",
          "height": 340
        },
        "outputId": "242a8105-813b-4b37-a5c4-990206a8d42d"
      },
      "source": [
        "def get_siamese_model(input_shape):\n",
        "    \"\"\"\n",
        "        Model architecture based on the one provided in: http://www.cs.utoronto.ca/~gkoch/files/msc-thesis.pdf\n",
        "    \"\"\"\n",
        "    \n",
        "    # Define the tensors for the two input images\n",
        "    left_input = Input(input_shape)\n",
        "    right_input = Input(input_shape)\n",
        "    \n",
        "    # Convolutional Neural Network\n",
        "    model = Sequential()\n",
        "    model.add(Conv2D(64, (10,10), activation='relu', input_shape=input_shape,\n",
        "                   kernel_initializer=initialize_weights, kernel_regularizer=l2(2e-4)))\n",
        "    model.add(MaxPooling2D())\n",
        "    model.add(Conv2D(128, (7,7), activation='relu',\n",
        "                     kernel_initializer=initialize_weights,\n",
        "                     bias_initializer=initialize_bias, kernel_regularizer=l2(2e-4)))\n",
        "    model.add(MaxPooling2D())\n",
        "    model.add(Conv2D(128, (4,4), activation='relu', kernel_initializer=initialize_weights,\n",
        "                     bias_initializer=initialize_bias, kernel_regularizer=l2(2e-4)))\n",
        "    model.add(MaxPooling2D())\n",
        "    model.add(Conv2D(256, (4,4), activation='relu', kernel_initializer=initialize_weights,\n",
        "                     bias_initializer=initialize_bias, kernel_regularizer=l2(2e-4)))\n",
        "    model.add(Flatten())\n",
        "    model.add(Dense(4096, activation='sigmoid',\n",
        "                   kernel_regularizer=l2(1e-3),\n",
        "                   kernel_initializer=initialize_weights,bias_initializer=initialize_bias))\n",
        "    \n",
        "    # Generate the encodings (feature vectors) for the two images\n",
        "    encoded_l = model(left_input)\n",
        "    encoded_r = model(right_input)\n",
        "    \n",
        "    # Add a customized layer to compute the absolute difference between the encodings\n",
        "    L1_layer = Lambda(lambda tensors:K.abs(tensors[0] - tensors[1]))\n",
        "    L1_distance = L1_layer([encoded_l, encoded_r])\n",
        "    \n",
        "    # Add a dense layer with a sigmoid unit to generate the similarity score\n",
        "    prediction = Dense(1,activation='sigmoid',bias_initializer=initialize_bias)(L1_distance)\n",
        "    \n",
        "    # Connect the inputs with the outputs\n",
        "    siamese_net = Model(inputs=[left_input,right_input],outputs=prediction)\n",
        "    \n",
        "    # return the model\n",
        "    return siamese_net\n",
        "  \n",
        "model = get_siamese_model((105, 105, 1))\n",
        "model.summary()\n",
        "optimizer = Adam(lr = 0.00006)\n",
        "model.compile(loss=\"binary_crossentropy\",optimizer=optimizer)"
      ],
      "execution_count": 215,
      "outputs": [
        {
          "output_type": "stream",
          "text": [
            "__________________________________________________________________________________________________\n",
            "Layer (type)                    Output Shape         Param #     Connected to                     \n",
            "==================================================================================================\n",
            "input_9 (InputLayer)            (None, 105, 105, 1)  0                                            \n",
            "__________________________________________________________________________________________________\n",
            "input_10 (InputLayer)           (None, 105, 105, 1)  0                                            \n",
            "__________________________________________________________________________________________________\n",
            "sequential_5 (Sequential)       (None, 4096)         38947648    input_9[0][0]                    \n",
            "                                                                 input_10[0][0]                   \n",
            "__________________________________________________________________________________________________\n",
            "lambda_5 (Lambda)               (None, 4096)         0           sequential_5[1][0]               \n",
            "                                                                 sequential_5[2][0]               \n",
            "__________________________________________________________________________________________________\n",
            "dense_10 (Dense)                (None, 1)            4097        lambda_5[0][0]                   \n",
            "==================================================================================================\n",
            "Total params: 38,951,745\n",
            "Trainable params: 38,951,745\n",
            "Non-trainable params: 0\n",
            "__________________________________________________________________________________________________\n"
          ],
          "name": "stdout"
        }
      ]
    },
    {
      "cell_type": "markdown",
      "metadata": {
        "id": "kJqblF7EXxvf",
        "colab_type": "text"
      },
      "source": [
        "## Accuracy Checking"
      ]
    },
    {
      "cell_type": "code",
      "metadata": {
        "id": "y8wtFryHlKW3",
        "colab_type": "code",
        "colab": {}
      },
      "source": [
        "def testOneshot(model, N, nVal, mode = \"val\"):\n",
        "    n_correct = 0\n",
        "    for i in range(nVal):\n",
        "        inputs, targets = makeOneShotTask(N,mode)\n",
        "        probs = model.predict(inputs)\n",
        "        if np.argmax(probs) == np.argmax(targets):\n",
        "            n_correct+=1\n",
        "    percent_correct = (100.0 * n_correct / k)\n",
        "    return percent_correct"
      ],
      "execution_count": 0,
      "outputs": []
    },
    {
      "cell_type": "code",
      "metadata": {
        "id": "zgCe24cElOib",
        "colab_type": "code",
        "colab": {}
      },
      "source": [
        "evalutionEvery = 200\n",
        "batchSize = 32\n",
        "numberOfIteration = 20000\n",
        "nWay = 16 \n",
        "nVal = 250 \n",
        "bestAccuracy = -1"
      ],
      "execution_count": 0,
      "outputs": []
    },
    {
      "cell_type": "markdown",
      "metadata": {
        "id": "B2_3SQ4QX4fm",
        "colab_type": "text"
      },
      "source": [
        "## Training The Siamese Network"
      ]
    },
    {
      "cell_type": "code",
      "metadata": {
        "id": "z8viqOifXfYU",
        "colab_type": "code",
        "colab": {}
      },
      "source": [
        "for i in range(1, numberOfIteration+1):\n",
        "    (inputs,targets) = getBatch(batchSize)\n",
        "    loss = model.train_on_batch(inputs, targets)\n",
        "    if i % evalutionEvery == 0:\n",
        "      print(\"Iteration\"+i)\n",
        "      print(\"Train Loss: {0}\".format(loss)) \n",
        "      val_acc = testOneShot(model, N_way, nVal)\n",
        "      if val_acc >= best:\n",
        "          print(\"Current best: {0}, previous best: {1}\".format(val_acc, best))\n",
        "          best = val_acc"
      ],
      "execution_count": 0,
      "outputs": []
    }
  ]
}